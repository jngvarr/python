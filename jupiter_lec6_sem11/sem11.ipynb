{
 "cells": [
  {
   "attachments": {},
   "cell_type": "markdown",
   "id": "a3fd22f6",
   "metadata": {},
   "source": [
    "f(x)= -5x^2+10x-150\n",
    "\n",
    "Определить корни\n",
    "\n",
    "Найти интервалы, на которых функция возрастает\n",
    "\n",
    "Найти интервалы, на которых функция убывает\n",
    "\n",
    "Построить график\n",
    "\n",
    "Вычислить вершину\n",
    "\n",
    "Определить промежутки, на котором f > 0\n",
    "\n",
    "Определить промежутки, на котором f < 0"
   ]
  },
  {
   "cell_type": "code",
   "execution_count": 17,
   "id": "009d9247",
   "metadata": {},
   "outputs": [],
   "source": [
    "from sympy import*\n",
    "import math\n",
    "from sympy.plotting import plot\n",
    "import random"
   ]
  },
  {
   "cell_type": "code",
   "execution_count": 19,
   "id": "f6a7d435",
   "metadata": {},
   "outputs": [
    {
     "data": {
      "text/latex": [
       "$\\displaystyle - 5 x^{2} + 10 x - 30$"
      ],
      "text/plain": [
       "-5*x**2 + 10*x - 30"
      ]
     },
     "execution_count": 19,
     "metadata": {},
     "output_type": "execute_result"
    }
   ],
   "source": [
    "x = Symbol ('x')\n",
    "fx = -5*x**2+10*x-30\n",
    "fx"
   ]
  },
  {
   "cell_type": "code",
   "execution_count": 20,
   "id": "319ff0e6",
   "metadata": {},
   "outputs": [
    {
     "name": "stdout",
     "output_type": "stream",
     "text": [
      "    -30 |                         ...........                   \n",
      "        |                      ...           ...                \n",
      "        |                   ...                 ..              \n",
      "        |                  /                      ..            \n",
      "        |                ..                         \\           \n",
      "        |              ..                            ..         \n",
      "        |             /                                \\        \n",
      "        |            /                                  ..      \n",
      "        |           /                                     \\     \n",
      "        |          /                                       \\    \n",
      "   -330 |---------/-----------------------------------------\\---\n",
      "        |        /                                           \\  \n",
      "        |       /                                             \\ \n",
      "        |      /                                               \\\n",
      "        |     /                                                 \n",
      "        |    /                                                  \n",
      "        |   /                                                   \n",
      "        |  .                                                    \n",
      "        |                                                       \n",
      "        | .                                                     \n",
      "   -630 |_______________________________________________________\n",
      "         -10                        0                          10\n"
     ]
    }
   ],
   "source": [
    "p= plot (fx, (x,-10,10))"
   ]
  },
  {
   "cell_type": "code",
   "execution_count": 16,
   "id": "6009c91d",
   "metadata": {},
   "outputs": [
    {
     "name": "stdout",
     "output_type": "stream",
     "text": [
      "x1= 1 - sqrt(5)*I, x2 =1 + sqrt(5)*I\n"
     ]
    }
   ],
   "source": [
    "x1, x2 = solve(fx)\n",
    "print(f'x1= {x1}, x2 ={x2}')"
   ]
  },
  {
   "cell_type": "code",
   "execution_count": 10,
   "id": "72ecd7fb",
   "metadata": {},
   "outputs": [
    {
     "name": "stdout",
     "output_type": "stream",
     "text": [
      "10 - 10*x\n"
     ]
    }
   ],
   "source": [
    "pr = diff(fx)\n",
    "print(pr)"
   ]
  },
  {
   "cell_type": "code",
   "execution_count": 11,
   "id": "7df3ca91",
   "metadata": {},
   "outputs": [
    {
     "name": "stdout",
     "output_type": "stream",
     "text": [
      "apex = 1\n",
      "1\n"
     ]
    }
   ],
   "source": [
    "apex = solve(diff(fx))[0] # координата вершины\n",
    "print(\"apex =\", apex)\n",
    "print(apex)"
   ]
  },
  {
   "cell_type": "code",
   "execution_count": 12,
   "id": "46e64b00",
   "metadata": {},
   "outputs": [
    {
     "data": {
      "text/latex": [
       "$\\displaystyle -\\infty < x \\wedge x < 1$"
      ],
      "text/plain": [
       "(-oo < x) & (x < 1)"
      ]
     },
     "execution_count": 12,
     "metadata": {},
     "output_type": "execute_result"
    }
   ],
   "source": [
    "solve(diff(fx)>0) # функция возрастает"
   ]
  },
  {
   "cell_type": "code",
   "execution_count": 13,
   "id": "d682f699",
   "metadata": {},
   "outputs": [
    {
     "data": {
      "text/latex": [
       "$\\displaystyle 1 < x \\wedge x < \\infty$"
      ],
      "text/plain": [
       "(1 < x) & (x < oo)"
      ]
     },
     "execution_count": 13,
     "metadata": {},
     "output_type": "execute_result"
    }
   ],
   "source": [
    "solve(diff(fx)<0) # координата вершины"
   ]
  },
  {
   "cell_type": "code",
   "execution_count": null,
   "id": "03c0b16a",
   "metadata": {},
   "outputs": [],
   "source": []
  },
  {
   "cell_type": "code",
   "execution_count": null,
   "id": "4e50b5aa",
   "metadata": {},
   "outputs": [],
   "source": []
  },
  {
   "cell_type": "code",
   "execution_count": null,
   "id": "65c29959",
   "metadata": {},
   "outputs": [],
   "source": []
  }
 ],
 "metadata": {
  "kernelspec": {
   "display_name": "Python 3 (ipykernel)",
   "language": "python",
   "name": "python3"
  },
  "language_info": {
   "codemirror_mode": {
    "name": "ipython",
    "version": 3
   },
   "file_extension": ".py",
   "mimetype": "text/x-python",
   "name": "python",
   "nbconvert_exporter": "python",
   "pygments_lexer": "ipython3",
   "version": "3.11.1"
  },
  "vscode": {
   "interpreter": {
    "hash": "14eedf31e8e5ea19ab3a20030edde738cc5e38c95dd2dcabc0ff3a49dfb37a4f"
   }
  }
 },
 "nbformat": 4,
 "nbformat_minor": 5
}
